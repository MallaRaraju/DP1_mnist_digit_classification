{
  "nbformat": 4,
  "nbformat_minor": 0,
  "metadata": {
    "colab": {
      "provenance": [],
      "gpuType": "T4",
      "authorship_tag": "ABX9TyOWAh8nSOLmjB5FhUX3+BvU",
      "include_colab_link": true
    },
    "kernelspec": {
      "name": "python3",
      "display_name": "Python 3"
    },
    "language_info": {
      "name": "python"
    },
    "accelerator": "GPU"
  },
  "cells": [
    {
      "cell_type": "markdown",
      "metadata": {
        "id": "view-in-github",
        "colab_type": "text"
      },
      "source": [
        "<a href=\"https://colab.research.google.com/github/MallaRaraju/DP1_mnist_digit_classification/blob/main/Mnist_Digit_Classification_with_TF.ipynb\" target=\"_parent\"><img src=\"https://colab.research.google.com/assets/colab-badge.svg\" alt=\"Open In Colab\"/></a>"
      ]
    },
    {
      "cell_type": "markdown",
      "source": [
        "#Importing the Dipendencies"
      ],
      "metadata": {
        "id": "NMnvShEweJX-"
      }
    },
    {
      "cell_type": "code",
      "execution_count": 2,
      "metadata": {
        "id": "g-lxC4vVd9h9"
      },
      "outputs": [],
      "source": [
        "import tensorflow as tf\n",
        "import matplotlib.pyplot as plt"
      ]
    },
    {
      "cell_type": "markdown",
      "source": [
        "# Getting dataset"
      ],
      "metadata": {
        "id": "XjbKZn-Vec0y"
      }
    },
    {
      "cell_type": "code",
      "source": [
        "mnist = tf.keras.datasets.mnist"
      ],
      "metadata": {
        "id": "koWhskdnehjo"
      },
      "execution_count": 3,
      "outputs": []
    },
    {
      "cell_type": "code",
      "source": [
        "(x_train,y_train), (x_test, y_test) = mnist.load_data()"
      ],
      "metadata": {
        "id": "qY9yvPQTe1pw"
      },
      "execution_count": 74,
      "outputs": []
    },
    {
      "cell_type": "code",
      "source": [
        "# shape of our training data\n",
        "x_train.shape"
      ],
      "metadata": {
        "colab": {
          "base_uri": "https://localhost:8080/"
        },
        "id": "hrdVZWJZfF8L",
        "outputId": "1f66e113-5c3a-4b0b-beb0-44ab5942d4ee"
      },
      "execution_count": 5,
      "outputs": [
        {
          "output_type": "execute_result",
          "data": {
            "text/plain": [
              "(60000, 28, 28)"
            ]
          },
          "metadata": {},
          "execution_count": 5
        }
      ]
    },
    {
      "cell_type": "code",
      "source": [
        "# shape of our training labels\n",
        "y_train.shape\n",
        "# our labels are categorical"
      ],
      "metadata": {
        "colab": {
          "base_uri": "https://localhost:8080/"
        },
        "id": "NOKWAo_QfPSI",
        "outputId": "d4d49796-3aea-4c10-8a5d-a69874cf6837"
      },
      "execution_count": 6,
      "outputs": [
        {
          "output_type": "execute_result",
          "data": {
            "text/plain": [
              "(60000,)"
            ]
          },
          "metadata": {},
          "execution_count": 6
        }
      ]
    },
    {
      "cell_type": "code",
      "source": [
        "# A sample of our dataset\n",
        "plt.imshow(x_train[0])\n",
        "# our dataset consists of 28x28 images of hand-written digits"
      ],
      "metadata": {
        "colab": {
          "base_uri": "https://localhost:8080/",
          "height": 447
        },
        "id": "vvrmrMC7fXF_",
        "outputId": "3382c1e0-ec92-43f8-aa4a-04f9e0316c4d"
      },
      "execution_count": 7,
      "outputs": [
        {
          "output_type": "execute_result",
          "data": {
            "text/plain": [
              "<matplotlib.image.AxesImage at 0x7f69310e84f0>"
            ]
          },
          "metadata": {},
          "execution_count": 7
        },
        {
          "output_type": "display_data",
          "data": {
            "text/plain": [
              "<Figure size 640x480 with 1 Axes>"
            ],
            "image/png": "[encoded data removed]"
          },
          "metadata": {}
        }
      ]
    },
    {
      "cell_type": "markdown",
      "source": [
        "# Data Pre-processing"
      ],
      "metadata": {
        "id": "E2hbtJoCfmmX"
      }
    },
    {
      "cell_type": "code",
      "source": [
        "# before converted to onehot encoded vector\n",
        "y_test[0]"
      ],
      "metadata": {
        "colab": {
          "base_uri": "https://localhost:8080/"
        },
        "id": "AfyhVv1mhW5g",
        "outputId": "bc378277-fac8-4b7b-9845-6bd17fa5ef23"
      },
      "execution_count": 8,
      "outputs": [
        {
          "output_type": "execute_result",
          "data": {
            "text/plain": [
              "7"
            ]
          },
          "metadata": {},
          "execution_count": 8
        }
      ]
    },
    {
      "cell_type": "code",
      "source": [
        "# converting sparse data to onehot encoded data\n",
        "y_train = tf.one_hot(y_train, depth = 10)\n",
        "y_test = tf.one_hot(y_test, depth = 10) #depth represents number of classes\n",
        "# what we did here is converted data that is labeled in the form of indexes to onehot coded vector\n",
        "# Example : 7 is changed to [0, 0, 0, 0, 0, 0, 0, 1, 0, 0]"
      ],
      "metadata": {
        "id": "qR90Lz3Nfrrt"
      },
      "execution_count": 10,
      "outputs": []
    },
    {
      "cell_type": "code",
      "source": [
        "# after converted to onehot encoded vector\n",
        "y_test[0]"
      ],
      "metadata": {
        "colab": {
          "base_uri": "https://localhost:8080/"
        },
        "id": "natzkhg5hw3v",
        "outputId": "24df7bb9-432c-44a5-ff8b-987978424f28"
      },
      "execution_count": 27,
      "outputs": [
        {
          "output_type": "execute_result",
          "data": {
            "text/plain": [
              "<tf.Tensor: shape=(10,), dtype=float32, numpy=array([0., 0., 0., 0., 0., 0., 0., 1., 0., 0.], dtype=float32)>"
            ]
          },
          "metadata": {},
          "execution_count": 27
        }
      ]
    },
    {
      "cell_type": "markdown",
      "source": [
        "we can convert 28x28 image to a vector of size 784, but insted we'll use flattening layer, which will do it while training"
      ],
      "metadata": {
        "id": "_ABZpSGKiGy1"
      }
    },
    {
      "cell_type": "markdown",
      "source": [
        "# Model building"
      ],
      "metadata": {
        "id": "ECF_gZwtin3L"
      }
    },
    {
      "cell_type": "code",
      "source": [
        "from tensorflow.keras.layers import Flatten, Dense, Dropout"
      ],
      "metadata": {
        "id": "IJeS8d_Cim2o"
      },
      "execution_count": 12,
      "outputs": []
    },
    {
      "cell_type": "code",
      "source": [
        "model = tf.keras.Sequential()"
      ],
      "metadata": {
        "id": "bPDy_9W7jT73"
      },
      "execution_count": 15,
      "outputs": []
    },
    {
      "cell_type": "code",
      "source": [
        "model.add(Flatten(input_shape=(28,28)))\n",
        "model.add(Dense(392, activation = 'relu'))\n",
        "model.add(Dense(196, activation = 'relu'))\n",
        "model.add(Dropout(.2))\n",
        "model.add(Dense(98, activation = 'relu'))\n",
        "model.add(Dense(10))"
      ],
      "metadata": {
        "id": "ZIx0-HxBjtOd"
      },
      "execution_count": 18,
      "outputs": []
    },
    {
      "cell_type": "code",
      "source": [
        "model.summary()"
      ],
      "metadata": {
        "colab": {
          "base_uri": "https://localhost:8080/"
        },
        "id": "9RL72Qablk1F",
        "outputId": "a6d97331-9b16-4919-c6f1-72aab06d1e7e"
      },
      "execution_count": 19,
      "outputs": [
        {
          "output_type": "stream",
          "name": "stdout",
          "text": [
            "Model: \"sequential\"\n",
            "_________________________________________________________________\n",
            " Layer (type)                Output Shape              Param #   \n",
            "=================================================================\n",
            " flatten_2 (Flatten)         (None, 784)               0         \n",
            "                                                                 \n",
            " dense (Dense)               (None, 392)               307720    \n",
            "                                                                 \n",
            " dense_1 (Dense)             (None, 196)               77028     \n",
            "                                                                 \n",
            " dropout (Dropout)           (None, 196)               0         \n",
            "                                                                 \n",
            " dense_2 (Dense)             (None, 98)                19306     \n",
            "                                                                 \n",
            " dense_3 (Dense)             (None, 10)                990       \n",
            "                                                                 \n",
            "=================================================================\n",
            "Total params: 405,044\n",
            "Trainable params: 405,044\n",
            "Non-trainable params: 0\n",
            "_________________________________________________________________\n"
          ]
        }
      ]
    },
    {
      "cell_type": "code",
      "source": [
        "tf.keras.utils.plot_model(model, show_shapes=True, show_layer_activations=True)"
      ],
      "metadata": {
        "colab": {
          "base_uri": "https://localhost:8080/",
          "height": 754
        },
        "id": "xl_goHaQlos7",
        "outputId": "4ee2812a-f7d7-475e-8ce1-66a3414f88b2"
      },
      "execution_count": 20,
      "outputs": [
        {
          "output_type": "execute_result",
          "data": {
            "image/png": "[encoded data removed]",
            "text/plain": [
              "<IPython.core.display.Image object>"
            ]
          },
          "metadata": {},
          "execution_count": 20
        }
      ]
    },
    {
      "cell_type": "markdown",
      "source": [
        "# Training our model on the mnist data"
      ],
      "metadata": {
        "id": "jv0EoaGjl-HX"
      }
    },
    {
      "cell_type": "code",
      "source": [
        "model.compile(optimizer ='Adam',\n",
        "              loss = tf.keras.losses.CategoricalCrossentropy(from_logits=True),\n",
        "              metrics = ['accuracy'])"
      ],
      "metadata": {
        "id": "aqwfC9Gll9Zk"
      },
      "execution_count": 28,
      "outputs": []
    },
    {
      "cell_type": "code",
      "source": [
        "model.fit(x_train, y_train, batch_size=2000, epochs = 20)"
      ],
      "metadata": {
        "colab": {
          "base_uri": "https://localhost:8080/"
        },
        "id": "NNeBVH37mqbY",
        "outputId": "236c585a-2d24-4df9-d391-11e3a4bfe5a0"
      },
      "execution_count": 31,
      "outputs": [
        {
          "output_type": "stream",
          "name": "stdout",
          "text": [
            "Epoch 1/20\n",
            "30/30 [==============================] - 0s 5ms/step - loss: 0.0982 - accuracy: 0.9682\n",
            "Epoch 2/20\n",
            "30/30 [==============================] - 0s 5ms/step - loss: 0.0936 - accuracy: 0.9702\n",
            "Epoch 3/20\n",
            "30/30 [==============================] - 0s 5ms/step - loss: 0.0882 - accuracy: 0.9715\n",
            "Epoch 4/20\n",
            "30/30 [==============================] - 0s 5ms/step - loss: 0.0827 - accuracy: 0.9729\n",
            "Epoch 5/20\n",
            "30/30 [==============================] - 0s 5ms/step - loss: 0.0793 - accuracy: 0.9747\n",
            "Epoch 6/20\n",
            "30/30 [==============================] - 0s 5ms/step - loss: 0.0782 - accuracy: 0.9746\n",
            "Epoch 7/20\n",
            "30/30 [==============================] - 0s 5ms/step - loss: 0.0719 - accuracy: 0.9773\n",
            "Epoch 8/20\n",
            "30/30 [==============================] - 0s 4ms/step - loss: 0.0691 - accuracy: 0.9769\n",
            "Epoch 9/20\n",
            "30/30 [==============================] - 0s 5ms/step - loss: 0.0659 - accuracy: 0.9788\n",
            "Epoch 10/20\n",
            "30/30 [==============================] - 0s 5ms/step - loss: 0.0642 - accuracy: 0.9789\n",
            "Epoch 11/20\n",
            "30/30 [==============================] - 0s 5ms/step - loss: 0.0595 - accuracy: 0.9809\n",
            "Epoch 12/20\n",
            "30/30 [==============================] - 0s 5ms/step - loss: 0.0570 - accuracy: 0.9811\n",
            "Epoch 13/20\n",
            "30/30 [==============================] - 0s 5ms/step - loss: 0.0554 - accuracy: 0.9821\n",
            "Epoch 14/20\n",
            "30/30 [==============================] - 0s 5ms/step - loss: 0.0530 - accuracy: 0.9822\n",
            "Epoch 15/20\n",
            "30/30 [==============================] - 0s 5ms/step - loss: 0.0501 - accuracy: 0.9829\n",
            "Epoch 16/20\n",
            "30/30 [==============================] - 0s 5ms/step - loss: 0.0507 - accuracy: 0.9829\n",
            "Epoch 17/20\n",
            "30/30 [==============================] - 0s 5ms/step - loss: 0.0480 - accuracy: 0.9838\n",
            "Epoch 18/20\n",
            "30/30 [==============================] - 0s 4ms/step - loss: 0.0471 - accuracy: 0.9846\n",
            "Epoch 19/20\n",
            "30/30 [==============================] - 0s 4ms/step - loss: 0.0448 - accuracy: 0.9847\n",
            "Epoch 20/20\n",
            "30/30 [==============================] - 0s 4ms/step - loss: 0.0452 - accuracy: 0.9849\n"
          ]
        },
        {
          "output_type": "execute_result",
          "data": {
            "text/plain": [
              "<keras.callbacks.History at 0x7f68a6147fd0>"
            ]
          },
          "metadata": {},
          "execution_count": 31
        }
      ]
    },
    {
      "cell_type": "markdown",
      "source": [
        "# Evaluate our model"
      ],
      "metadata": {
        "id": "VSYAEE3korOn"
      }
    },
    {
      "cell_type": "code",
      "source": [
        "model.evaluate(x_test, y_test)"
      ],
      "metadata": {
        "colab": {
          "base_uri": "https://localhost:8080/"
        },
        "id": "t2XlZXktov_2",
        "outputId": "c8c202da-c580-4443-a567-db7a73af89d5"
      },
      "execution_count": 32,
      "outputs": [
        {
          "output_type": "stream",
          "name": "stdout",
          "text": [
            "313/313 [==============================] - 1s 3ms/step - loss: 0.2105 - accuracy: 0.9625\n"
          ]
        },
        {
          "output_type": "execute_result",
          "data": {
            "text/plain": [
              "[0.21045292913913727, 0.9624999761581421]"
            ]
          },
          "metadata": {},
          "execution_count": 32
        }
      ]
    },
    {
      "cell_type": "markdown",
      "source": [
        "# Test our model"
      ],
      "metadata": {
        "id": "s1y5rmTno6yD"
      }
    },
    {
      "cell_type": "code",
      "source": [
        "pred = model.predict(x_test)"
      ],
      "metadata": {
        "colab": {
          "base_uri": "https://localhost:8080/"
        },
        "id": "Nb_b1q_6o6Ir",
        "outputId": "06e19b9f-c862-42b8-aa3b-642101ea0b69"
      },
      "execution_count": 35,
      "outputs": [
        {
          "output_type": "stream",
          "name": "stdout",
          "text": [
            "313/313 [==============================] - 1s 2ms/step\n"
          ]
        }
      ]
    },
    {
      "cell_type": "code",
      "source": [
        "predictions = tf.nn.softmax(pred)"
      ],
      "metadata": {
        "id": "JG6xcLFZpTwx"
      },
      "execution_count": 39,
      "outputs": []
    },
    {
      "cell_type": "code",
      "source": [
        "pred_transpose = tf.transpose(predictions)\n",
        "y_test = tf.transpose(y_test)"
      ],
      "metadata": {
        "id": "1v1Bj01RsaTF"
      },
      "execution_count": 73,
      "outputs": []
    },
    {
      "cell_type": "code",
      "source": [
        "final_pred = tf.argmax(pred_transpose)\n",
        "y_test = tf.argmax(y_test)"
      ],
      "metadata": {
        "id": "KF3ziJRPpozU"
      },
      "execution_count": 70,
      "outputs": []
    },
    {
      "cell_type": "code",
      "source": [
        "y_test.shape"
      ],
      "metadata": {
        "colab": {
          "base_uri": "https://localhost:8080/"
        },
        "id": "nMWzO2mOvxfd",
        "outputId": "522afe29-b916-4a76-b62d-97cb0550ea63"
      },
      "execution_count": 75,
      "outputs": [
        {
          "output_type": "execute_result",
          "data": {
            "text/plain": [
              "(10000,)"
            ]
          },
          "metadata": {},
          "execution_count": 75
        }
      ]
    },
    {
      "cell_type": "code",
      "source": [
        "plt.scatter(final_pred,y_test)\n"
      ],
      "metadata": {
        "colab": {
          "base_uri": "https://localhost:8080/",
          "height": 447
        },
        "id": "QYqXFHVIvLhr",
        "outputId": "1e260f1d-94c7-4770-aca7-19657f7f4044"
      },
      "execution_count": 76,
      "outputs": [
        {
          "output_type": "execute_result",
          "data": {
            "text/plain": [
              "<matplotlib.collections.PathCollection at 0x7f68a6158640>"
            ]
          },
          "metadata": {},
          "execution_count": 76
        },
        {
          "output_type": "display_data",
          "data": {
            "text/plain": [
              "<Figure size 640x480 with 1 Axes>"
            ],
            "image/png": "[encoded data removed]"
          },
          "metadata": {}
        }
      ]
    },
    {
      "cell_type": "markdown",
      "source": [
        "#Save our model"
      ],
      "metadata": {
        "id": "OGgAw5XpwXR8"
      }
    },
    {
      "cell_type": "code",
      "source": [
        "model.save('/content')"
      ],
      "metadata": {
        "id": "8bcWlJIMwW_u"
      },
      "execution_count": 77,
      "outputs": []
    },
    {
      "cell_type": "markdown",
      "source": [
        "# Reload our model "
      ],
      "metadata": {
        "id": "h832meVaxE4w"
      }
    },
    {
      "cell_type": "code",
      "source": [
        "#we can delete our model using del\n",
        "del model"
      ],
      "metadata": {
        "id": "rG6UXzC4xEdB"
      },
      "execution_count": 82,
      "outputs": []
    },
    {
      "cell_type": "code",
      "source": [
        "model = tf.keras.models.load_model(\"/content\")"
      ],
      "metadata": {
        "id": "Sd4ANmZqxOx8"
      },
      "execution_count": 84,
      "outputs": []
    }
  ]
}